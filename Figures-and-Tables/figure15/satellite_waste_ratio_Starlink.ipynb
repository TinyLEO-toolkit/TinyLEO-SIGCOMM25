{
 "cells": [
  {
   "cell_type": "code",
   "execution_count": 8,
   "id": "b4a9fbbc-6bf9-4b7e-b84d-dbe59048931c",
   "metadata": {},
   "outputs": [],
   "source": [
    "import numpy as np\n",
    "import math\n",
    "from fractions import Fraction\n",
    "from tqdm import tqdm\n",
    "import multiprocessing as mp\n",
    "import os\n",
    "from haversine import haversine, Unit"
   ]
  },
  {
   "cell_type": "code",
   "execution_count": 2,
   "id": "cbfb324d-e8e4-41b7-b30a-7b7730af193e",
   "metadata": {},
   "outputs": [],
   "source": [
    "# Astronomy-related constants\n",
    "\n",
    "TE = 24 * 3600  # One Earth sidereal day in seconds\n",
    "\n",
    "RE = 6371e3  # Mean radius of Earth in meters\n",
    "\n",
    "u = 3.986e14  # Standard gravitational parameter (μ = GM) in m^3/s^2\n",
    "\n",
    "K = RE / pow(u, 1/3) * pow(2 * np.pi, 2/3)  \n",
    "\n",
    "eps = 25 * np.pi / 180  # Maximum elevation angle for ground access, in radians (25°)\n",
    "\n",
    "# Compute satellite orbital period (h in meters)\n",
    "def satellite_period(h):\n",
    "    a = RE + h\n",
    "    T = float(2 * np.pi * pow(a**3 / u, 0.5))\n",
    "    return T\n",
    "\n",
    "# Compute coverage angle eta (in radians)\n",
    "def coverage_eta(T):\n",
    "    eta = math.acos(K * math.cos(eps) / pow(T, 2/3)) - eps\n",
    "    return eta\n",
    "\n",
    "# Approximate an integer ratio of a and b\n",
    "def approximate_ratio(a, b, precision=1e-3):\n",
    "    if b == 0:\n",
    "        raise ValueError(\"Denominator cannot be zero\")\n",
    "    ratio = Fraction(a, b).limit_denominator(int(1 / precision))\n",
    "    return ratio.numerator, ratio.denominator\n",
    "def is_cover(l_sat,p_sat,l_cell,p_cell,eta):\n",
    "    if (p_sat-2*eta)<-np.pi/2 or (p_sat+2*eta)>np.pi/2 or (l_sat-2*eta)<-np.pi or (l_sat+2*eta)>np.pi: ## 如果纬度范围超界，直接用球面距离判断\n",
    "        d=haversine((np.degrees(p_sat),np.degrees(l_sat)),(np.degrees(p_cell),np.degrees(l_cell)),unit=Unit.METERS)\n",
    "        if d <= eta*RE:\n",
    "            return True\n",
    "    else:\n",
    "        if (p_sat-2*eta)<=p_cell<=(p_sat+2*eta) and (l_sat-2*eta)<=l_cell<=(l_sat+2*eta):  # 预筛选\n",
    "            d=haversine((np.degrees(p_sat),np.degrees(l_sat)),(np.degrees(p_cell),np.degrees(l_cell)),unit=Unit.METERS)\n",
    "            if d <= eta*RE:\n",
    "                return True\n",
    "    return False\n",
    "def calculate_cell_area():\n",
    "    \"\"\"\n",
    "    Compute the surface area of each ground cell based on latitude.\n",
    "\n",
    "    Returns:\n",
    "        list: S_set, area (in m²) of each demand cell.\n",
    "    \"\"\"\n",
    "    S_set = []\n",
    "    for demand in demand_list:\n",
    "        # Convert latitude to radians\n",
    "        p_cell = np.radians(demand['lat_lon'][0])  # latitude in radians\n",
    "\n",
    "        # Grid height (north-south span) in meters\n",
    "        h = RE * np.radians(cell_size)\n",
    "\n",
    "        # Width of top and bottom edges (east-west spans) in meters\n",
    "        L1 = RE * np.sin(np.pi / 2 - abs(p_cell)) * np.radians(cell_size)\n",
    "        tmp = abs(p_cell - np.radians(cell_size))\n",
    "        L2 = RE * np.sin(np.pi / 2 - min(tmp, np.pi / 2)) * np.radians(cell_size)\n",
    "\n",
    "        # Adjust for cells near the South Pole\n",
    "        if tmp > np.pi / 2:\n",
    "            h = RE * abs(p_cell + np.pi / 2)\n",
    "\n",
    "        # Approximate area using trapezoid formula\n",
    "        S = 0.5 * h * (L1 + L2)\n",
    "        S_set.append(S)\n",
    "    \n",
    "    return S_set\n",
    "\n",
    "def cal_supply_all_cell(sat_pos):\n",
    "    \"\"\"\n",
    "    Compute per-cell supply coverage of a satellite at a given position.\n",
    "\n",
    "    Args:\n",
    "        sat_pos (list): Satellite position [lat (rad), lon (rad), height (km)]\n",
    "\n",
    "    Returns:\n",
    "        list: [supply_list (length = num_cells), sat_pos]\n",
    "              Each supply_list entry is the normalized per-user supply for a ground cell.\n",
    "    \"\"\"\n",
    "    p_sat, l_sat, h = sat_pos  # latitude, longitude (in radians), height (in km)\n",
    "    r_set = []  # stores [cell_id, area, density] for covered cells\n",
    "\n",
    "    for idx, demand in enumerate(demand_list):\n",
    "        # Convert ground cell coordinates to radians\n",
    "        p_cell = np.radians(demand['lat_lon'][0])  # latitude\n",
    "        l_cell = np.radians(demand['lat_lon'][1])  # longitude\n",
    "\n",
    "        # Compute satellite coverage cone\n",
    "        T = satellite_period(h * 1e3)\n",
    "        eta = coverage_eta(T)\n",
    "\n",
    "        # Check if satellite covers this ground cell\n",
    "        if is_cover(l_sat, p_sat, l_cell, p_cell, eta):\n",
    "            S = S_set[idx]\n",
    "            r_set.append([idx, S, demand['density']])\n",
    "        else:\n",
    "            r_set.append([idx, 0, 0])\n",
    "\n",
    "    # Normalize supply to ensure total allocation matches user_per_sat\n",
    "    S_sum = np.sum([item[1] for item in r_set])\n",
    "    supply_list = [item[1] / S_sum * user_per_sat if S_sum > 0 else 0 for item in r_set]\n",
    "\n",
    "    return [supply_list, sat_pos]\n"
   ]
  },
  {
   "cell_type": "code",
   "execution_count": 3,
   "id": "a648c2bd-d158-4276-b033-595597f66333",
   "metadata": {},
   "outputs": [
    {
     "name": "stdout",
     "output_type": "stream",
     "text": [
      "6793\n",
      "[9.24978122e-02 1.43109492e+00 4.53357621e+02]\n"
     ]
    }
   ],
   "source": [
    "starlink_pos=np.load(\"data/2025_01_01_starlink.npy\",allow_pickle=True)\n",
    "print(len(starlink_pos))\n",
    "print(starlink_pos[0])\n",
    "demand_list=np.load(\"../../Dataset/Demand/starlink_supply_2025_01_01_99449.npy\",allow_pickle=True)\n",
    "cell_size=4\n",
    "user_per_sat = 960\n",
    "S_set=calculate_cell_area() "
   ]
  },
  {
   "cell_type": "code",
   "execution_count": 10,
   "id": "f46b5915-5252-4d09-a179-7d94bd40b5f8",
   "metadata": {},
   "outputs": [
    {
     "name": "stderr",
     "output_type": "stream",
     "text": [
      "100%|██████████| 6793/6793 [00:08<00:00, 761.72it/s]\n"
     ]
    }
   ],
   "source": [
    "with mp.Pool(processes=100,) as pool:\n",
    "    full_cover = list(tqdm(pool.imap(cal_supply_all_cell, starlink_pos), total=len(starlink_pos),mininterval=5))\n",
    "    pool.close()  # Prevents any more tasks from being submitted to the pool\n",
    "    pool.join()   # Wait for the worker processes to exit\n",
    "total_supply=[]\n",
    "for item in full_cover:\n",
    "    if len(total_supply)==0:\n",
    "        total_supply=np.array(item[0])\n",
    "    else:\n",
    "        total_supply+=np.array(item[0])\n",
    "# np.save(\"total_supply_starlink.npy\",total_supply)"
   ]
  },
  {
   "cell_type": "code",
   "execution_count": 13,
   "id": "eff93ee3-01b1-41a2-b5bd-28643387fa04",
   "metadata": {},
   "outputs": [
    {
     "name": "stdout",
     "output_type": "stream",
     "text": [
      "1522.0362757975377\n"
     ]
    }
   ],
   "source": [
    "supply_demand_ratio=[]\n",
    "for idx,demand in enumerate(demand_list):\n",
    "    if demand['density']!=0:\n",
    "        supply_demand_ratio.append(total_supply[idx]/demand['density'])\n",
    "print(np.mean(supply_demand_ratio))\n",
    "np.save(\"data/supply_demand_ratio_official_starlink.npy\",supply_demand_ratio)"
   ]
  },
  {
   "cell_type": "code",
   "execution_count": 14,
   "id": "0cc1044a-363e-4d64-b839-726d2a834aca",
   "metadata": {},
   "outputs": [
    {
     "name": "stdout",
     "output_type": "stream",
     "text": [
      "943.5332722148289\n"
     ]
    }
   ],
   "source": [
    "# south America\n",
    "demand_list_south=np.load(\"data/south_america_starlink_demand_99449.npy\",allow_pickle=True)\n",
    "supply_demand_ratio_south=[]\n",
    "for idx,demand in enumerate(demand_list_south):\n",
    "    if demand['density']!=0:\n",
    "        supply_demand_ratio_south.append(total_supply[idx]/demand['density'])\n",
    "print(np.mean(supply_demand_ratio_south))\n",
    "np.save(\"data/supply_demand_ratio_south_starlink.npy\",supply_demand_ratio_south)"
   ]
  },
  {
   "cell_type": "code",
   "execution_count": 12,
   "id": "f9d884f8-b9a5-4164-82e1-00430bcd5ea5",
   "metadata": {},
   "outputs": [],
   "source": [
    "def get_grid_id(lat_deg: float, lon_deg: float) -> int:\n",
    "    \"\"\"\n",
    "    Return the grid ID based on latitude and longitude.\n",
    "\n",
    "    Grid layout:\n",
    "        - 11 rows (latitude bands): from +90°N to -90°S\n",
    "        - 11 columns (longitude bands): from -180° to +180°\n",
    "        - Total 121 grids, numbered row-wise from top-left to bottom-right\n",
    "\n",
    "    Args:\n",
    "        lat_deg (float): Latitude in degrees\n",
    "        lon_deg (float): Longitude in degrees\n",
    "\n",
    "    Returns:\n",
    "        int: Grid ID (0–120), or -1 if coordinates are invalid\n",
    "    \"\"\"\n",
    "    # Normalize longitude to range [-180, 180)\n",
    "    lon_deg = ((lon_deg + 180) % 360) - 180\n",
    "\n",
    "    # Determine row index based on latitude\n",
    "    lat = 90\n",
    "    row = -1\n",
    "    for i in range(11):\n",
    "        band_height = 16 if i < 10 else 20\n",
    "        if lat_deg <= lat and lat_deg > (lat - band_height) or (i == 10 and lat_deg >= -90):\n",
    "            row = i\n",
    "            break\n",
    "        lat -= band_height\n",
    "\n",
    "    # Determine column index based on longitude\n",
    "    lon = -180\n",
    "    col = -1\n",
    "    for j in range(11):\n",
    "        band_width = 32 if j < 10 else 40\n",
    "        if lon_deg >= lon and lon_deg < (lon + band_width) or (j == 10 and lon_deg <= 180):\n",
    "            col = j\n",
    "            break\n",
    "        lon += band_width\n",
    "\n",
    "    # Handle exact edge cases (e.g. -90°, 180°)\n",
    "    if row == -1 and lat_deg == -90:\n",
    "        row = 10\n",
    "    if col == -1 and lon_deg == 180:\n",
    "        col = 10\n",
    "\n",
    "    # Compute and return grid ID\n",
    "    if row != -1 and col != -1:\n",
    "        return row * 11 + col\n",
    "    else:\n",
    "        print(f\"Warning: Could not determine grid for lat={lat_deg}, lon={lon_deg}\")\n",
    "        return -1"
   ]
  },
  {
   "cell_type": "code",
   "execution_count": 15,
   "id": "65d2fe53-87a6-4227-b0db-bab067dcc003",
   "metadata": {},
   "outputs": [
    {
     "name": "stdout",
     "output_type": "stream",
     "text": [
      "16.52536589969745\n"
     ]
    }
   ],
   "source": [
    "demand_list_backbone=np.load(\"data/backbone_satellite_demand.npy\",allow_pickle=True)\n",
    "starlink_data=[0]*len(demand_list_backbone)\n",
    "for sat in starlink_pos:\n",
    "    lat=np.degrees(sat[0])\n",
    "    lon=np.degrees(sat[1])\n",
    "    cid=get_grid_id(lat, lon)\n",
    "    starlink_data[cid]+=1\n",
    "supply_demand_ratio_backbone=[]\n",
    "for idx,demand in enumerate(demand_list_backbone):\n",
    "    if demand!=0:\n",
    "        supply_demand_ratio_backbone.append(starlink_data[idx]/demand)\n",
    "print(np.mean(supply_demand_ratio_backbone))\n",
    "np.save(\"data/supply_demand_ratio_backbone_starlink.npy\",supply_demand_ratio_backbone)"
   ]
  }
 ],
 "metadata": {
  "kernelspec": {
   "display_name": "Python 3 (ipykernel)",
   "language": "python",
   "name": "python3"
  },
  "language_info": {
   "codemirror_mode": {
    "name": "ipython",
    "version": 3
   },
   "file_extension": ".py",
   "mimetype": "text/x-python",
   "name": "python",
   "nbconvert_exporter": "python",
   "pygments_lexer": "ipython3",
   "version": "3.10.14"
  }
 },
 "nbformat": 4,
 "nbformat_minor": 5
}
