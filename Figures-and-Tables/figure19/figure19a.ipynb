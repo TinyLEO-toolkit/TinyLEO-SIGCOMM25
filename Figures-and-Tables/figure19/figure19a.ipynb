{
 "cells": [
  {
   "cell_type": "code",
   "execution_count": 1,
   "id": "5e89e2d9",
   "metadata": {},
   "outputs": [],
   "source": [
    "import json\n",
    "import numpy as np\n",
    "tinyleo_name = 'tinyleo'\n",
    "starlink_name = 'starlink'\n",
    "with open(f'data/{tinyleo_name}_total_results_shortest.json', 'r') as f:\n",
    "    tinyleo_anycast_result = json.load(f)\n",
    "with open(f'data/{tinyleo_name}_total_results_anycast.json', 'r') as f:\n",
    "    tinyleo_shortest_result = json.load(f)\n",
    "with open(f'data/{starlink_name}_total_results_shortest.json', 'r') as f:\n",
    "    starlink_anycast_result = json.load(f)\n",
    "with open(f'data/{starlink_name}_total_results_anycast.json', 'r') as f:\n",
    "    starlink_shortest_result = json.load(f)\n",
    "with open(f'data/{starlink_name}_total_results_shortest_3isls.json', 'r') as f:\n",
    "    starlink_3isl_shortest_result = json.load(f)"
   ]
  },
  {
   "cell_type": "code",
   "execution_count": 2,
   "id": "d66ac5ff",
   "metadata": {},
   "outputs": [],
   "source": [
    "tinyleo_anycast_delays = []\n",
    "tinyleo_anycast_hops = []\n",
    "tinyleo_shorest_delays = []\n",
    "tinyleo_shorest_hops = []\n",
    "\n",
    "for gs1 in tinyleo_anycast_result:\n",
    "    tinyleo_anycast_delays.append(tinyleo_anycast_result[gs1]['delay'])\n",
    "    tinyleo_anycast_hops.append(len(tinyleo_anycast_result[gs1]['path']))\n",
    "\n",
    "for gs1 in tinyleo_shortest_result:\n",
    "    tinyleo_shorest_delays.append(tinyleo_shortest_result[gs1]['delay'])\n",
    "    tinyleo_shorest_hops.append(len(tinyleo_shortest_result[gs1]['path']))\n",
    "\n",
    "starlink_anycast_delays = []\n",
    "starlink_anycast_hops = []\n",
    "starlink_shorest_delays = []\n",
    "starlink_shorest_hops = []\n",
    "\n",
    "for gs1 in starlink_anycast_result:\n",
    "    starlink_anycast_delays.append(starlink_anycast_result[gs1]['delay'])\n",
    "    starlink_anycast_hops.append(len(starlink_anycast_result[gs1]['path']))\n",
    "    \n",
    "for gs1 in starlink_shortest_result:\n",
    "    starlink_shorest_delays.append(starlink_shortest_result[gs1]['delay'])\n",
    "    starlink_shorest_hops.append(len(starlink_shortest_result[gs1]['path']))\n",
    "\n",
    "starlink_3isl_shorest_delays = []\n",
    "starlink_3isl_shorest_hops = []\n",
    "for gs1 in starlink_3isl_shortest_result:\n",
    "    starlink_3isl_shorest_delays.append(starlink_3isl_shortest_result[gs1]['delay'])\n",
    "    starlink_3isl_shorest_hops.append(len(starlink_3isl_shortest_result[gs1]['path']))"
   ]
  },
  {
   "cell_type": "code",
   "execution_count": 3,
   "id": "da24090b",
   "metadata": {},
   "outputs": [
    {
     "name": "stdout",
     "output_type": "stream",
     "text": [
      "139.64121633636356\n",
      "95.44389658136967\n",
      "189.65364053731741\n",
      "83.17444208172428\n",
      "371.6970542995267\n"
     ]
    }
   ],
   "source": [
    "max_delays = 0\n",
    "for item in [tinyleo_anycast_delays, tinyleo_shorest_delays,\n",
    "             starlink_anycast_delays, starlink_shorest_delays, starlink_3isl_shorest_delays]:\n",
    "    print(max(item))\n",
    "    max_delays = max(max_delays, max(item))"
   ]
  },
  {
   "cell_type": "code",
   "execution_count": 4,
   "id": "4adc2bda",
   "metadata": {},
   "outputs": [
    {
     "data": {
      "image/png": "[encoded data removed]",
      "text/plain": [
       "<Figure size 350x250 with 1 Axes>"
      ]
     },
     "metadata": {},
     "output_type": "display_data"
    }
   ],
   "source": [
    "import numpy as np\n",
    "import matplotlib.pyplot as plt\n",
    "\n",
    "# Set font type for PDF export\n",
    "plt.rcParams['pdf.fonttype'] = 42 \n",
    "\n",
    "def compute_cdf(data):\n",
    "    \"\"\"\n",
    "    Compute the empirical CDF of given data.\n",
    "    \n",
    "    Args:\n",
    "        data (list or ndarray): Input data to compute CDF for.\n",
    "    \n",
    "    Returns:\n",
    "        tuple: (sorted data, corresponding CDF values in %)\n",
    "    \"\"\"\n",
    "    data = np.sort(data)\n",
    "    cdf = np.arange(1, len(data) + 1) * 100 / len(data)\n",
    "    return data, cdf\n",
    "\n",
    "def plot_cdf(data_list, labels, colors):\n",
    "    \"\"\"\n",
    "    Plot CDF curves for multiple datasets.\n",
    "    \n",
    "    Args:\n",
    "        data_list (list of list): Each element is a list of delay values.\n",
    "        labels (list of str): Labels for each CDF curve.\n",
    "        colors (list of str): Colors for each CDF curve.\n",
    "    \"\"\"\n",
    "    plt.figure(figsize=(3.5, 2.5))\n",
    "    \n",
    "    for delays, label, color in zip(data_list, labels, colors):\n",
    "        plot_delays = delays.copy()\n",
    "        # Ensure CDF starts from 0 and covers maximum delay\n",
    "        plot_delays.append(max_delays)\n",
    "        plot_delays.append(0)\n",
    "\n",
    "        x, y = compute_cdf(plot_delays)\n",
    "\n",
    "        # Use dashed line for baseline method\n",
    "        if label == 'Shortest path propagation delay':\n",
    "            plt.plot(x, y, label=label, color=color, linewidth=4, linestyle='--')\n",
    "        else:\n",
    "            plt.plot(x, y, label=label, color=color, linewidth=3, linestyle='-')\n",
    "\n",
    "    # Axis labels\n",
    "    plt.xlabel('Path delay (ms)', fontsize=14)\n",
    "    plt.ylabel('CDF (%)', fontsize=14)\n",
    "    \n",
    "    # Tick settings\n",
    "    plt.tick_params(axis='both', which='major', labelsize=14)\n",
    "    plt.xlim(0, 200)\n",
    "    plt.ylim(0, 101)\n",
    "    \n",
    "    # Add legend\n",
    "    legend = plt.legend(fontsize=10.6, loc='upper left', bbox_to_anchor=(-0.025, 0.5))\n",
    "    legend.get_frame().set_alpha(0.3)\n",
    "\n",
    "    plt.tight_layout()\n",
    "\n",
    "    # Save to file\n",
    "    plt.savefig('figures/figure19a_1.pdf', dpi=300, bbox_inches='tight')\n",
    "    plt.savefig('figures/figure19a_1.png', dpi=300, bbox_inches='tight')\n",
    "    plt.show()\n",
    "\n",
    "# ------------------------\n",
    "# Prepare input data\n",
    "# ------------------------\n",
    "\n",
    "# List of delay datasets to plot\n",
    "data_list = [\n",
    "    tinyleo_shorest_delays,\n",
    "    starlink_3isl_shorest_delays,\n",
    "    starlink_shorest_delays\n",
    "]\n",
    "\n",
    "# Labels for the CDF curves\n",
    "labels = [\n",
    "    \"TinyLEO\",\n",
    "    \"Starlink w/ Grid (3 ISLs)\",\n",
    "    \"Starlink w/ Orbital MPC\"\n",
    "]\n",
    "\n",
    "# Color palette\n",
    "colors = ['#3D5C6F', '#E47159', '#F9AE78']\n",
    "\n",
    "# Max delay value (used to anchor CDF curves)\n",
    "max_delays = max(max(delays) for delays in data_list)\n",
    "\n",
    "# Plot\n",
    "plot_cdf(data_list, labels, colors)"
   ]
  },
  {
   "cell_type": "code",
   "execution_count": 5,
   "id": "1fb1f9f3",
   "metadata": {},
   "outputs": [
    {
     "name": "stdout",
     "output_type": "stream",
     "text": [
      "59\n",
      "44\n",
      "65\n",
      "40\n",
      "81\n"
     ]
    }
   ],
   "source": [
    "max_hops = 0\n",
    "for item in [tinyleo_anycast_hops, tinyleo_shorest_hops,\n",
    "             starlink_anycast_hops, starlink_shorest_hops, starlink_3isl_shorest_hops]:\n",
    "    print(max(item))\n",
    "    max_hops = max(max_hops, max(item))"
   ]
  },
  {
   "cell_type": "code",
   "execution_count": 6,
   "id": "1faf2f7f",
   "metadata": {},
   "outputs": [
    {
     "data": {
      "image/png": "[encoded data removed]",
      "text/plain": [
       "<Figure size 350x250 with 1 Axes>"
      ]
     },
     "metadata": {},
     "output_type": "display_data"
    }
   ],
   "source": [
    "import numpy as np\n",
    "import matplotlib.pyplot as plt\n",
    "\n",
    "def compute_cdf(data):\n",
    "    \"\"\"\n",
    "    Compute the empirical CDF of given data.\n",
    "    \n",
    "    Args:\n",
    "        data (list or ndarray): Input data.\n",
    "    \n",
    "    Returns:\n",
    "        tuple: (sorted data, corresponding CDF values in %)\n",
    "    \"\"\"\n",
    "    data = np.sort(data)\n",
    "    cdf = np.arange(1, len(data) + 1) * 100 / len(data)\n",
    "    return data, cdf\n",
    "\n",
    "def plot_cdf(data_list, labels, colors):\n",
    "    \"\"\"\n",
    "    Plot CDF curves for hop counts.\n",
    "    \n",
    "    Args:\n",
    "        data_list (list of list): Each element is a list of hop counts.\n",
    "        labels (list of str): Labels for each curve.\n",
    "        colors (list of str): Corresponding colors.\n",
    "    \"\"\"\n",
    "    plt.figure(figsize=(3.5, 2.5))\n",
    "\n",
    "    for hops, label, color in zip(data_list, labels, colors):\n",
    "        plot_hops = hops.copy()\n",
    "        plot_hops.append(max_hops)  # Ensure CDF covers full hop range\n",
    "        plot_hops.append(0)         # Ensure CDF starts at 0\n",
    "\n",
    "        x, y = compute_cdf(plot_hops)\n",
    "\n",
    "        plt.plot(x, y, label=label, color=color,\n",
    "                 linewidth=4 if label == 'Shortest path propagation delay' else 3,\n",
    "                 linestyle='-')\n",
    "\n",
    "    plt.xlabel('Path hop count', fontsize=14)\n",
    "    plt.ylabel('CDF (%)', fontsize=14)\n",
    "    plt.tick_params(axis='both', which='major', labelsize=14)\n",
    "    plt.xlim(0, 40)\n",
    "    plt.ylim(0, 101)\n",
    "\n",
    "    # Add legend\n",
    "    legend = plt.legend(fontsize=10.8, loc='upper left', bbox_to_anchor=(-0.02, 0.5))\n",
    "    legend.get_frame().set_alpha(0.3)\n",
    "\n",
    "    plt.tight_layout()\n",
    "\n",
    "    # Save the figure\n",
    "    plt.savefig('figures/figure19a_2.pdf', dpi=300, bbox_inches='tight')\n",
    "    plt.savefig('figures/figure19a_2.png', dpi=300, bbox_inches='tight')\n",
    "    plt.show()\n",
    "\n",
    "# ------------------------\n",
    "# Prepare input data\n",
    "# ------------------------\n",
    "\n",
    "# Input hop count lists\n",
    "data_list = [\n",
    "    tinyleo_shorest_hops,\n",
    "    starlink_3isl_shorest_hops,\n",
    "    starlink_shorest_hops\n",
    "]\n",
    "\n",
    "# Labels for the CDF curves\n",
    "labels = [\n",
    "    \"TinyLEO\",\n",
    "    \"Starlink w/ Grid (3 ISLs)\",\n",
    "    \"Starlink w/ Orbital MPC\"\n",
    "]\n",
    "\n",
    "# Color palette\n",
    "colors = ['#3D5C6F', '#E47159', '#F9AE78']\n",
    "\n",
    "# Maximum hop value (used to extend range)\n",
    "max_hops = max(max(hops) for hops in data_list)\n",
    "\n",
    "# Plot\n",
    "plot_cdf(data_list, labels, colors)\n"
   ]
  },
  {
   "cell_type": "code",
   "execution_count": 7,
   "id": "5d4d3430",
   "metadata": {},
   "outputs": [],
   "source": [
    "anycast_stretch = []\n",
    "for sat in tinyleo_anycast_result:\n",
    "    anycast_stretch.append(tinyleo_anycast_result[sat]['delay'] / starlink_anycast_result[sat]['delay'])\n",
    "shorest_stretch = []\n",
    "for sat in tinyleo_shortest_result:\n",
    "    shorest_stretch.append(tinyleo_shortest_result[sat]['delay'] / starlink_shortest_result[sat]['delay'])"
   ]
  },
  {
   "cell_type": "code",
   "execution_count": 8,
   "id": "31587029",
   "metadata": {},
   "outputs": [],
   "source": [
    "grid_strech = []\n",
    "for sat in tinyleo_shortest_result:\n",
    "    grid_strech.append(tinyleo_shortest_result[sat]['delay'] / starlink_3isl_shortest_result[sat]['delay'])"
   ]
  },
  {
   "cell_type": "code",
   "execution_count": 9,
   "id": "39a26b96",
   "metadata": {},
   "outputs": [
    {
     "name": "stdout",
     "output_type": "stream",
     "text": [
      "1.5826200958816838\n"
     ]
    }
   ],
   "source": [
    "for item in grid_strech:\n",
    "    if item > 1.5:\n",
    "        print(item)"
   ]
  },
  {
   "cell_type": "code",
   "execution_count": 10,
   "id": "a10dede1",
   "metadata": {},
   "outputs": [
    {
     "data": {
      "image/png": "[encoded data removed]",
      "text/plain": [
       "<Figure size 350x250 with 1 Axes>"
      ]
     },
     "metadata": {},
     "output_type": "display_data"
    }
   ],
   "source": [
    "import numpy as np\n",
    "import matplotlib.pyplot as plt\n",
    "\n",
    "def compute_cdf(data):\n",
    "    \"\"\"\n",
    "    Compute the empirical CDF of given data.\n",
    "    \"\"\"\n",
    "    data = np.sort(data)\n",
    "    cdf = np.arange(1, len(data) + 1) * 100 / len(data)\n",
    "    return data, cdf\n",
    "\n",
    "def plot_cdf(data_list, labels, colors):\n",
    "    \"\"\"\n",
    "    Plot CDF of routing stretch with annotated percentiles.\n",
    "    \n",
    "    Args:\n",
    "        data_list (list of lists): Each list contains stretch values.\n",
    "        labels (list of str): Labels for each curve.\n",
    "        colors (list of str): Colors for each curve.\n",
    "    \"\"\"\n",
    "    plt.figure(figsize=(3.5, 2.5))\n",
    "    \n",
    "    for stretches, label, color in zip(data_list, labels, colors):\n",
    "        plot_stretches = stretches.copy()\n",
    "        plot_stretches.append(0)  # Ensure CDF starts at 0\n",
    "\n",
    "        x, y = compute_cdf(plot_stretches)\n",
    "\n",
    "        plt.plot(x, y, label=label, color=color,\n",
    "                 linewidth=4 if label == 'Shortest path propagation delay' else 3,\n",
    "                 linestyle='-')\n",
    "\n",
    "        # Compute 50% and 90% percentiles\n",
    "        p50 = np.percentile(stretches, 50)\n",
    "        p90 = np.percentile(stretches, 90)\n",
    "\n",
    "        # Annotate percentiles\n",
    "        plt.scatter([p50], [50], color=\"#B61E00\", zorder=8)\n",
    "        plt.scatter([p90], [90], color=\"#B61E00\", zorder=8)\n",
    "        plt.plot([p50, p50], [0, 50], color='gray', linestyle='--', linewidth=3)\n",
    "        plt.plot([0, p50], [50, 50], color='gray', linestyle='--', linewidth=3)\n",
    "        plt.plot([p90, p90], [0, 90], color='gray', linestyle='--', linewidth=3)\n",
    "        plt.plot([0, p90], [90, 90], color='gray', linestyle='--', linewidth=3)\n",
    "\n",
    "    plt.xlabel('Routing stretch (TinyLEO / Starlink)', fontsize=14)\n",
    "    plt.ylabel('CDF (%)', fontsize=14)\n",
    "    plt.tick_params(axis='both', which='major', labelsize=14)\n",
    "    plt.xlim(0, 1.6)\n",
    "    plt.ylim(0, 101)\n",
    "    plt.yticks([0, 50, 100])\n",
    "\n",
    "    # Add legend\n",
    "    legend = plt.legend(fontsize=13, loc='lower right')\n",
    "    legend.get_frame().set_alpha(0.3)\n",
    "\n",
    "    plt.tight_layout()\n",
    "    plt.savefig('figures/figure19a_3.pdf', dpi=300, bbox_inches='tight')\n",
    "    plt.savefig('figures/figure19a_3.png', dpi=300, bbox_inches='tight')\n",
    "    plt.show()\n",
    "\n",
    "# ------------------------\n",
    "# Input data\n",
    "# ------------------------\n",
    "\n",
    "data_list = [shorest_stretch, grid_strech]\n",
    "labels = ['Orbital MPC', 'Grid (3 ISLs)']\n",
    "colors = ['#3D5C6F', '#E47159']\n",
    "\n",
    "# Plot the CDF\n",
    "plot_cdf(data_list, labels, colors)\n"
   ]
  },
  {
   "cell_type": "code",
   "execution_count": 11,
   "id": "8978da4d",
   "metadata": {},
   "outputs": [
    {
     "name": "stdout",
     "output_type": "stream",
     "text": [
      "50% stretch: 1.13, 90% stretch: 1.29, max stretch: 1.63\n"
     ]
    }
   ],
   "source": [
    "p50 = np.percentile(shorest_stretch, 50)\n",
    "p90 = np.percentile(shorest_stretch, 90)\n",
    "print(f\"50% stretch: {p50:.2f}, 90% stretch: {p90:.2f}, max stretch: {max(shorest_stretch):.2f}\")"
   ]
  },
  {
   "cell_type": "code",
   "execution_count": 12,
   "id": "28ad647d",
   "metadata": {},
   "outputs": [
    {
     "name": "stdout",
     "output_type": "stream",
     "text": [
      "50% stretch: 0.19, 90% stretch: 0.26, max stretch: 1.58\n"
     ]
    }
   ],
   "source": [
    "p50 = np.percentile(grid_strech, 50)\n",
    "p90 = np.percentile(grid_strech, 90)\n",
    "print(f\"50% stretch: {p50:.2f}, 90% stretch: {p90:.2f}, max stretch: {max(grid_strech):.2f}\")"
   ]
  },
  {
   "cell_type": "code",
   "execution_count": null,
   "id": "3ce604e7-035a-48a3-9afa-491c959fd8ee",
   "metadata": {},
   "outputs": [],
   "source": []
  }
 ],
 "metadata": {
  "kernelspec": {
   "display_name": "Python 3 (ipykernel)",
   "language": "python",
   "name": "python3"
  },
  "language_info": {
   "codemirror_mode": {
    "name": "ipython",
    "version": 3
   },
   "file_extension": ".py",
   "mimetype": "text/x-python",
   "name": "python",
   "nbconvert_exporter": "python",
   "pygments_lexer": "ipython3",
   "version": "3.10.14"
  }
 },
 "nbformat": 4,
 "nbformat_minor": 5
}
